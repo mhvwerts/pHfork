{
 "cells": [
  {
   "cell_type": "markdown",
   "id": "1584a0c9-55c7-4a97-bcea-95da2ad9b051",
   "metadata": {},
   "source": [
    "# pHcalc *vs* phreeqpython: NaOH solutions in equilibrium with atmospheric CO2\n",
    "\n",
    "*M. H. V. Werts, 2023*\n",
    "\n",
    "## Introduction\n",
    "\n",
    "`pHcalc` uses simple mass-action law with user-provided constant pKa's and Kw. It does not take into account the effects of ionic strength on chemical activity, temperature dependence etc., working best at high dilution. There is no database of property data. All this is the domain of PHREEQC (https://www.usgs.gov/software/phreeqc-version-3), a more complex piece of software that has been developed by many scientists (mainly geochemists) over many years.\n",
    "\n",
    "There is a very good, mostly 'stand-alone', Python interface to PHREEQC called `phreeqpython` (https://github.com/Vitens/phreeqpython) which can be imported as a module into Python. It is very powerful software, able to take into account the many coupled equilibria involving many chemical species found in the natural environment. In being powerful, it may be too complicated for simple, occasional, 'quick & dirty' usage in the estimation of pH of simple aqueous solutions. That is more the domain of `pHcalc`.\n",
    "\n",
    "Here, we compare the results by `phreeqpython` and `pHcalc` for a benchmark case. We calculate the pH of various aqueous NaOH solutions in equilibrium with atmospheric CO2, *i.e.* the pH that is obtained after prolonged bubbling of ambient air through a freshly prepared solution of NaOH in water. \n"
   ]
  },
  {
   "cell_type": "markdown",
   "id": "811817e7-f0ae-44b5-a09e-22f8477e08e9",
   "metadata": {},
   "source": [
    "## phreeqpython usage notes\n",
    "\n",
    "To calculate the solution composition in equilibrium with atmospheric CO2, the method `equalize` (of the `Solution` object) is used. Looking into the phreeqpython source code, the `equalize` method uses PHREEQC's `EQUILIBRIUM_PHASES` keyword.\n",
    "\n",
    "https://water.usgs.gov/water-resources/software/PHREEQC/documentation/phreeqc3-html/phreeqc3-13.htm\n",
    "\n",
    "Indeed, the gas partial pressures are given by their log10 value:\n",
    "\n",
    "\"saturation index --Target saturation index for the pure phase in the aqueous phase (line 1a); **for gases, this number is the log of the partial pressure (line 1b).** The target saturation index (partial pressure) may not be attained if the amount of the phase in the assemblage is insufficient. Default is 0.0.\"\n",
    "\n",
    "We use the Pitzer database, which apparently is the 'best' dataset. According to PHREEQC v3 documentation (p. 8): \"One limitation of the aqueous model is lack of internal consistency in the data in the databases. The database `pitzer.dat` defines the most consistent aqueous model; however, it includes only a limited number of elements.\")"
   ]
  },
  {
   "cell_type": "markdown",
   "id": "380901f1-2fe5-41a3-94a5-89dee12d51f8",
   "metadata": {},
   "source": [
    "## Other notes\n",
    "\n",
    "`aqion` refers to results obtained via an on-line pH calculator (which uses PHREEQC as a back-end), mainly to check if we used `phreeqpython` correctly.\n",
    "\n",
    "DIC means 'dissolved inorganic carbon' (https://en.wikipedia.org/wiki/Dissolved_inorganic_carbon)\n",
    "\n",
    "Of course, the `phreeqpython` module should be available somewhere in your Python installation path, if you want to run this Notebook."
   ]
  },
  {
   "cell_type": "markdown",
   "id": "1876f183-e24b-434c-aa43-4e680b3189b6",
   "metadata": {},
   "source": [
    "## Concluding remarks\n",
    "\n",
    "This very small study is interesting since it shows a concrete comparison of the results obtained using a simple model (mass action law with constant coefficients) to those from a highly developed model based on many experimental observations. Even for 0.1 M NaOH, the simple model is still accurate to within 0.3 pH units (lucky for us, pH is a logarithmic scale!)."
   ]
  },
  {
   "cell_type": "code",
   "execution_count": 1,
   "id": "8b6daacf-1fc9-4afb-900f-42d701f6b566",
   "metadata": {},
   "outputs": [],
   "source": [
    "import sys\n",
    "sys.path.append('../../phreeqpython-master')"
   ]
  },
  {
   "cell_type": "code",
   "execution_count": 2,
   "id": "033bf2e0-da59-4614-a2a8-358f8df22ad2",
   "metadata": {},
   "outputs": [],
   "source": [
    "import numpy as np\n",
    "from phreeqpython import PhreeqPython"
   ]
  },
  {
   "cell_type": "code",
   "execution_count": 3,
   "id": "1d8c4042-cb4b-4dd5-bb6a-bf3b12a987ac",
   "metadata": {},
   "outputs": [],
   "source": [
    "from example_air_equilibrated_AcidGasEq import example2_benchmark as pHcalc_benchmark"
   ]
  },
  {
   "cell_type": "code",
   "execution_count": 4,
   "id": "a1fe8084-2037-4cf4-bf50-77668075249c",
   "metadata": {},
   "outputs": [],
   "source": [
    "pp = PhreeqPython(database = 'pitzer.dat')"
   ]
  },
  {
   "cell_type": "code",
   "execution_count": 5,
   "id": "90aac59f-34bd-4ad1-aaec-43178016f89a",
   "metadata": {},
   "outputs": [
    {
     "name": "stdout",
     "output_type": "stream",
     "text": [
      "Using partial CO2 pressure: 3.908e-04 atm (aqion value)\n"
     ]
    }
   ],
   "source": [
    "# CO2 value used by aqion (watch out: aqion uses pCO2, not partial pressure)\n",
    "aqionpCO2 = -3.408\n",
    "\n",
    "aqionP_CO2 = 10**aqionpCO2 # conversion of pCO2 into P_CO2 [atm]\n",
    "print('Using partial CO2 pressure: {0:5.3e} atm (aqion value)'.\\\n",
    "      format(aqionP_CO2))"
   ]
  },
  {
   "cell_type": "code",
   "execution_count": 6,
   "id": "171b95f0-7d61-4157-94cf-b6b3f300cc93",
   "metadata": {},
   "outputs": [],
   "source": [
    "# Test cases\n",
    "#   phreeqpython and pHcalc use different methods of defining system, hence different paramlists\n",
    "\n",
    "paramlist_phreeq = [\n",
    "    {'descr':       '0.1 M HCl(aq) in eq. with atmosphere',\n",
    "     'specstr':     'HCl',\n",
    "     'conc_mM':     100.,\n",
    "     'aqion_pH':    1.08},\n",
    "    {'descr':       '1 mM HCl(aq) in eq. with atmosphere',\n",
    "     'specstr':     'HCl',\n",
    "     'conc_mM':     1.,\n",
    "     'aqion_pH':    3.02},\n",
    "    {'descr':       'pure water in eq. with atmosphere',\n",
    "     'specstr':   None,\n",
    "     'conc_mM':     None,\n",
    "     'aqion_pH':    5.61},\n",
    "    {'descr':       '1 mM NaOH(aq) in eq. with atmosphere',\n",
    "     'specstr':     'NaOH',\n",
    "     'conc_mM':     1.,\n",
    "     'aqion_pH':    8.20},\n",
    "    {'descr':       '10 mM NaOH(aq) in eq. with atmosphere',\n",
    "     'specstr':     'NaOH',\n",
    "     'conc_mM':     10.,\n",
    "     'aqion_pH':    9.11},\n",
    "    {'descr':       '0.1 M NaOH(aq) in eq. with atmosphere',\n",
    "     'specstr':     'NaOH',\n",
    "     'conc_mM':     100.,\n",
    "     'aqion_pH':    9.71},\n",
    "    ]\n",
    "\n",
    "paramlist_phcalc =  [\n",
    "        {'descr':       '0.1 M HCl(aq) in eq. with atmosphere',\n",
    "         'ioncharge':  -1,\n",
    "         'ionconc':     0.1,\n",
    "         'aqion_pH':    1.08},\n",
    "        {'descr':       '1 mM HCl(aq) in eq. with atmosphere',\n",
    "         'ioncharge':  -1,\n",
    "         'ionconc':     0.001,\n",
    "         'aqion_pH':    3.02},\n",
    "        {'descr':       'pure water in eq. with atmosphere',\n",
    "         'ioncharge':   None,\n",
    "         'ionconc':     None,\n",
    "         'aqion_pH':    5.61},\n",
    "        {'descr':       '1 mM NaOH(aq) in eq. with atmosphere',\n",
    "         'ioncharge':   1,\n",
    "         'ionconc':     0.001,\n",
    "         'aqion_pH':    8.20},\n",
    "        {'descr':       '10 mM NaOH(aq) in eq. with atmosphere',\n",
    "         'ioncharge':   1,\n",
    "         'ionconc':     0.01,\n",
    "         'aqion_pH':    9.11},\n",
    "        {'descr':       '0.1 M NaOH(aq) in eq. with atmosphere',\n",
    "         'ioncharge':   1,\n",
    "         'ionconc':     0.1,\n",
    "         'aqion_pH':    9.71},\n",
    "        ]"
   ]
  },
  {
   "cell_type": "code",
   "execution_count": 7,
   "id": "57dd5502-2813-43a4-a401-47e15b5e8362",
   "metadata": {},
   "outputs": [
    {
     "name": "stdout",
     "output_type": "stream",
     "text": [
      "phreeqpython\n",
      "============\n",
      "Using partial CO2 pressure: 3.908e-04 atm (aqion value)\n",
      "0.1 M HCl(aq) in eq. with atmosphere     | DIC = 1.331e-05 M | pH =  1.08 [aqion:  1.08]\n",
      "1 mM HCl(aq) in eq. with atmosphere      | DIC = 1.331e-05 M | pH =  3.02 [aqion:  3.02]\n",
      "pure water in eq. with atmosphere        | DIC = 1.576e-05 M | pH =  5.61 [aqion:  5.61]\n",
      "1 mM NaOH(aq) in eq. with atmosphere     | DIC = 1.004e-03 M | pH =  8.20 [aqion:  8.20]\n",
      "10 mM NaOH(aq) in eq. with atmosphere    | DIC = 9.212e-03 M | pH =  9.13 [aqion:  9.11]\n",
      "0.1 M NaOH(aq) in eq. with atmosphere    | DIC = 7.047e-02 M | pH =  9.75 [aqion:  9.71]\n"
     ]
    }
   ],
   "source": [
    "print('phreeqpython')\n",
    "print('============')\n",
    "print('Using partial CO2 pressure: {0:5.3e} atm (aqion value)'.\\\n",
    "      format(aqionP_CO2))\n",
    "for param in paramlist_phreeq:\n",
    "    if param['specstr'] is not None:\n",
    "        soln = pp.add_solution_simple({param['specstr']:param['conc_mM']},\n",
    "                                      temperature=25.)\n",
    "    else:\n",
    "        soln = pp.add_solution_simple({},\n",
    "                                      temperature=25.)\n",
    "    soln.equalize(['CO2(g)'], [aqionpCO2])\n",
    "    DIC = soln.species_moles['CO2']+soln.species_moles['HCO3-']+soln.species_moles['CO3-2']\n",
    "    print('{0:40s} | DIC = {1:7.3e} M | pH = {2:5.2f} [aqion: {3:5.2f}]'.\\\n",
    "          format(param['descr'], DIC, soln.pH, param['aqion_pH']))"
   ]
  },
  {
   "cell_type": "code",
   "execution_count": 8,
   "id": "edb84594-ade4-4cab-80ff-6bd3e2214454",
   "metadata": {},
   "outputs": [
    {
     "name": "stdout",
     "output_type": "stream",
     "text": [
      "pHcalc\n",
      "======\n",
      "Using partial CO2 pressure: 3.908e-04 atm (aqion value)\n",
      "0.1 M HCl(aq) in eq. with atmosphere     | DIC = 1.340e-05 M | pH =  1.00 [aqion:  1.08]\n",
      "1 mM HCl(aq) in eq. with atmosphere      | DIC = 1.341e-05 M | pH =  3.00 [aqion:  3.02]\n",
      "pure water in eq. with atmosphere        | DIC = 1.585e-05 M | pH =  5.61 [aqion:  5.61]\n",
      "1 mM NaOH(aq) in eq. with atmosphere     | DIC = 1.004e-03 M | pH =  8.22 [aqion:  8.20]\n",
      "10 mM NaOH(aq) in eq. with atmosphere    | DIC = 9.396e-03 M | pH =  9.17 [aqion:  9.11]\n",
      "0.1 M NaOH(aq) in eq. with atmosphere    | DIC = 7.703e-02 M | pH =  9.96 [aqion:  9.71]\n"
     ]
    }
   ],
   "source": [
    "print('pHcalc')\n",
    "print('======')\n",
    "pHcalc_benchmark(paramlist_phcalc)"
   ]
  },
  {
   "cell_type": "code",
   "execution_count": null,
   "id": "603c1fb8-43ba-4eb1-b1ed-b1fe42018ed7",
   "metadata": {},
   "outputs": [],
   "source": []
  }
 ],
 "metadata": {
  "kernelspec": {
   "display_name": "Python 3 (ipykernel)",
   "language": "python",
   "name": "python3"
  },
  "language_info": {
   "codemirror_mode": {
    "name": "ipython",
    "version": 3
   },
   "file_extension": ".py",
   "mimetype": "text/x-python",
   "name": "python",
   "nbconvert_exporter": "python",
   "pygments_lexer": "ipython3",
   "version": "3.9.18"
  }
 },
 "nbformat": 4,
 "nbformat_minor": 5
}
